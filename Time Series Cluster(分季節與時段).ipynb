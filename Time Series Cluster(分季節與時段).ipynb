{
 "cells": [
  {
   "cell_type": "code",
   "execution_count": null,
   "metadata": {},
   "outputs": [],
   "source": [
    "import pandas as pd\n",
    "import numpy as np\n",
    "import random\n",
    "from tslearn.clustering import TimeSeriesKMeans, silhouette_score\n",
    "import folium\n",
    "from folium.plugins import MarkerCluster\n",
    "\n",
    "data_temp = pd.read_csv(r'PM2.5國網與中研院台中市夏季晚上.csv', skipinitialspace=True)\n",
    "GPSdata = pd.read_csv(r'airbox無飄移經緯度.csv', skipinitialspace=True)\n",
    "\n",
    "cluster_num = 2   # set how many cluster\n",
    "X = data_temp.T.values[1:]\n",
    "result = TimeSeriesKMeans(n_clusters = cluster_num, metric=\"euclidean\").fit(X)\n",
    "labels = result.labels_.tolist()\n",
    "score = silhouette_score(X, labels, metric=\"euclidean\")\n",
    "\n",
    "number = 0\n",
    "color_dict = {}\n",
    "while number < cluster_num:\n",
    "    r = lambda: random.randint(0,255)\n",
    "    tag = number\n",
    "    color_dict[tag] = '#%02X%02X%02X' % (r(),r(),r())\n",
    "    number += 1\n",
    "\n",
    "\n",
    "station = data_temp.columns.tolist()[1:]\n",
    "total = 0\n",
    "classification = {}\n",
    "\n",
    "while True:\n",
    "    try:\n",
    "        classification[station[total]] = labels[total]\n",
    "        total += 1 \n",
    "    except IndexError:\n",
    "        break\n",
    "\n",
    "map_view = folium.Map(location = [22.8, 120.5], zoom_start = 9) \n",
    "\n",
    "for sta in station:\n",
    "    latitude = GPSdata[GPSdata[\"device_id\"] == sta].loc[ : , \"latitude\"].item()\n",
    "    longitude = GPSdata[GPSdata[\"device_id\"] == sta].loc[ : , \"longitude\"].item()\n",
    "\n",
    "    folium.CircleMarker([latitude, longitude], popup = sta, radius = 6, fill=True, color = color_dict.get(classification.get(sta))).add_to(map_view)\n",
    "\n",
    "print(score)\n",
    "map_view"
   ]
  }
 ],
 "metadata": {
  "kernelspec": {
   "display_name": "Python 3",
   "language": "python",
   "name": "python3"
  },
  "language_info": {
   "codemirror_mode": {
    "name": "ipython",
    "version": 3
   },
   "file_extension": ".py",
   "mimetype": "text/x-python",
   "name": "python",
   "nbconvert_exporter": "python",
   "pygments_lexer": "ipython3",
   "version": "3.6.6"
  }
 },
 "nbformat": 4,
 "nbformat_minor": 2
}
